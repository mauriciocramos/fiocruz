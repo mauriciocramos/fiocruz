{
 "cells": [
  {
   "cell_type": "markdown",
   "metadata": {},
   "source": [
    "![logo](https://bigdata.icict.fiocruz.br/sites/bigdata.icict.fiocruz.br/themes/sunrise/images/faixa-topo.png)\n",
    "\n",
    "## Links úteis\n",
    "\n",
    "#### Jefferson Lima (jeffersonlima@icict.fiocruz.br)\n",
    "18/04/2018 - PPGICS\n",
    "\n",
    "---"
   ]
  },
  {
   "cell_type": "markdown",
   "metadata": {},
   "source": [
    "**Anaconda:**\n",
    "* [Download Windows](https://www.anaconda.com/download/#windows)\n",
    "* [Download Linux](https://www.anaconda.com/download/#linux)"
   ]
  },
  {
   "cell_type": "markdown",
   "metadata": {},
   "source": [
    "**Pandas:**\n",
    "* [Pandas tutorial oficial](https://pandas.pydata.org/pandas-docs/stable/tutorials.html)\n",
    "* [Pandas cookbook](https://github.com/jvns/pandas-cookbook)"
   ]
  },
  {
   "cell_type": "markdown",
   "metadata": {},
   "source": [
    "**Coleções de notebooks:**\n",
    "* [A gallery of interesting Jupyter Notebooks](https://github.com/jupyter/jupyter/wiki/A-gallery-of-interesting-Jupyter-Notebooks)\n",
    "* [Notebook Gallery](http://nb.bianp.net/sort/views/)\n",
    "* [Jupyter Notebooks on Various Topics](http://ramiro.org/notebooks/)\n",
    "* [jdwittenauer/ipython-notebooks](https://github.com/jdwittenauer/ipython-notebooks)\n",
    "* [Machine Learning Notebooks](https://sebastianraschka.com/notebooks/python-notebooks.html)"
   ]
  },
  {
   "cell_type": "markdown",
   "metadata": {},
   "source": [
    "**Markdown:**\n",
    "* https://github.com/adam-p/markdown-here/wiki/Markdown-Cheatsheet"
   ]
  }
 ],
 "metadata": {
  "kernelspec": {
   "display_name": "Python 3",
   "language": "python",
   "name": "python3"
  },
  "language_info": {
   "codemirror_mode": {
    "name": "ipython",
    "version": 3
   },
   "file_extension": ".py",
   "mimetype": "text/x-python",
   "name": "python",
   "nbconvert_exporter": "python",
   "pygments_lexer": "ipython3",
   "version": "3.6.0"
  }
 },
 "nbformat": 4,
 "nbformat_minor": 2
}
